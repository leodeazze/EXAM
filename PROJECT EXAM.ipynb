{
 "cells": [
  {
   "cell_type": "markdown",
   "source": [
    "# This is our coding project\n",
    "### Data Cleaning\n",
    "We proceed here with the data cleaning"
   ],
   "metadata": {
    "collapsed": false,
    "pycharm": {
     "name": "#%% md\n"
    }
   }
  },
  {
   "cell_type": "code",
   "execution_count": 60,
   "metadata": {
    "pycharm": {
     "name": "#%%\n"
    }
   },
   "outputs": [],
   "source": [
    "import pandas as pd"
   ]
  },
  {
   "cell_type": "code",
   "execution_count": 61,
   "metadata": {
    "pycharm": {
     "name": "#%%\n"
    }
   },
   "outputs": [],
   "source": [
    "happiness = pd.read_csv(\"World happiness report 2021.csv\")"
   ]
  },
  {
   "cell_type": "code",
   "execution_count": 62,
   "metadata": {
    "pycharm": {
     "name": "#%%\n"
    }
   },
   "outputs": [],
   "source": [
    "clean_happiness = happiness.drop(happiness.iloc[:, 3:20], axis=1)\n",
    "clean_happiness = clean_happiness.drop(['Regional indicator'], axis = 1)\n",
    "clean_happiness = clean_happiness.dropna(axis=0)"
   ]
  },
  {
   "cell_type": "code",
   "execution_count": 63,
   "metadata": {
    "pycharm": {
     "name": "#%%\n"
    }
   },
   "outputs": [],
   "source": [
    "mental_health_and_suicide_rates = pd.read_csv(\"Mental health and suicide rates.csv\")"
   ]
  },
  {
   "cell_type": "code",
   "execution_count": 64,
   "metadata": {
    "pycharm": {
     "name": "#%%\n"
    }
   },
   "outputs": [],
   "source": [
    "clean_mental_health_and_suicide_rates = mental_health_and_suicide_rates.drop(['2015', '2010', '2000'], axis=1)\n",
    "clean_mental_health_and_suicide_rates = clean_mental_health_and_suicide_rates.dropna(axis=0)"
   ]
  },
  {
   "cell_type": "code",
   "execution_count": 65,
   "outputs": [],
   "source": [
    "clean_mental_health_and_suicide_rates = clean_mental_health_and_suicide_rates[(clean_mental_health_and_suicide_rates.Sex == ' Both sexes')]\n",
    "clean_mental_health_and_suicide_rates = clean_mental_health_and_suicide_rates.drop('Sex', axis=1)"
   ],
   "metadata": {
    "collapsed": false,
    "pycharm": {
     "name": "#%%\n"
    }
   }
  },
  {
   "cell_type": "code",
   "execution_count": 66,
   "metadata": {
    "pycharm": {
     "name": "#%%\n"
    }
   },
   "outputs": [],
   "source": [
    "fertility = pd.read_csv(\"Fertility rate.csv\")"
   ]
  },
  {
   "cell_type": "code",
   "execution_count": 67,
   "metadata": {
    "pycharm": {
     "name": "#%%\n"
    }
   },
   "outputs": [],
   "source": [
    "clean_fertility = fertility.drop(fertility.iloc[:, 2:60], axis=1)\n",
    "clean_fertility = clean_fertility.drop(['Country Code'], axis=1)\n",
    "clean_fertility = clean_fertility.dropna(axis=0)"
   ]
  },
  {
   "cell_type": "code",
   "execution_count": 68,
   "metadata": {
    "pycharm": {
     "name": "#%%\n"
    }
   },
   "outputs": [],
   "source": [
    "countries = pd.read_csv(\"Countries of the world.csv\")"
   ]
  },
  {
   "cell_type": "code",
   "execution_count": 69,
   "outputs": [],
   "source": [
    "clean_countries = countries.drop(countries.iloc[:, 1:8], axis=1)\n",
    "clean_countries = clean_countries.drop(clean_countries.iloc[:, 2:13], axis=1)\n",
    "clean_countries = clean_countries.dropna(axis=0)"
   ],
   "metadata": {
    "collapsed": false,
    "pycharm": {
     "name": "#%%\n"
    }
   }
  },
  {
   "cell_type": "code",
   "execution_count": 70,
   "outputs": [],
   "source": [
    "clean_countries['Country'] = clean_countries['Country'].str.rstrip()"
   ],
   "metadata": {
    "collapsed": false,
    "pycharm": {
     "name": "#%%\n"
    }
   }
  },
  {
   "cell_type": "code",
   "execution_count": 71,
   "metadata": {
    "pycharm": {
     "name": "#%%\n"
    }
   },
   "outputs": [],
   "source": [
    "finaldata= clean_happiness.merge(clean_mental_health_and_suicide_rates, on= 'Country')"
   ]
  },
  {
   "cell_type": "code",
   "execution_count": 72,
   "outputs": [],
   "source": [
    "finaldata = finaldata.merge(clean_fertility, on='Country')"
   ],
   "metadata": {
    "collapsed": false,
    "pycharm": {
     "name": "#%%\n"
    }
   }
  },
  {
   "cell_type": "code",
   "execution_count": 73,
   "outputs": [
    {
     "data": {
      "text/plain": "         Country  Ladder score happiness  2016 suicide rate  \\\n0        Finland                   7.842               13.8   \n1        Denmark                   7.620                9.2   \n2    Switzerland                   7.571               11.3   \n3        Iceland                   7.554               13.3   \n4    Netherlands                   7.464                9.6   \n..           ...                     ...                ...   \n115      Lesotho                   3.512               28.9   \n116     Botswana                   3.467               11.5   \n117       Rwanda                   3.415               11.0   \n118     Zimbabwe                   3.145               19.1   \n119  Afghanistan                   2.523                6.4   \n\n     2016 fertility rate  GDP ($ per capita)  \n0                  1.650             27400.0  \n1                  1.710             31100.0  \n2                  1.540             32700.0  \n3                  1.800             30900.0  \n4                  1.660             28600.0  \n..                   ...                 ...  \n115                3.094              3000.0  \n116                2.730              9000.0  \n117                3.885              1300.0  \n118                3.760              1900.0  \n119                4.635               700.0  \n\n[120 rows x 5 columns]",
      "text/html": "<div>\n<style scoped>\n    .dataframe tbody tr th:only-of-type {\n        vertical-align: middle;\n    }\n\n    .dataframe tbody tr th {\n        vertical-align: top;\n    }\n\n    .dataframe thead th {\n        text-align: right;\n    }\n</style>\n<table border=\"1\" class=\"dataframe\">\n  <thead>\n    <tr style=\"text-align: right;\">\n      <th></th>\n      <th>Country</th>\n      <th>Ladder score happiness</th>\n      <th>2016 suicide rate</th>\n      <th>2016 fertility rate</th>\n      <th>GDP ($ per capita)</th>\n    </tr>\n  </thead>\n  <tbody>\n    <tr>\n      <th>0</th>\n      <td>Finland</td>\n      <td>7.842</td>\n      <td>13.8</td>\n      <td>1.650</td>\n      <td>27400.0</td>\n    </tr>\n    <tr>\n      <th>1</th>\n      <td>Denmark</td>\n      <td>7.620</td>\n      <td>9.2</td>\n      <td>1.710</td>\n      <td>31100.0</td>\n    </tr>\n    <tr>\n      <th>2</th>\n      <td>Switzerland</td>\n      <td>7.571</td>\n      <td>11.3</td>\n      <td>1.540</td>\n      <td>32700.0</td>\n    </tr>\n    <tr>\n      <th>3</th>\n      <td>Iceland</td>\n      <td>7.554</td>\n      <td>13.3</td>\n      <td>1.800</td>\n      <td>30900.0</td>\n    </tr>\n    <tr>\n      <th>4</th>\n      <td>Netherlands</td>\n      <td>7.464</td>\n      <td>9.6</td>\n      <td>1.660</td>\n      <td>28600.0</td>\n    </tr>\n    <tr>\n      <th>...</th>\n      <td>...</td>\n      <td>...</td>\n      <td>...</td>\n      <td>...</td>\n      <td>...</td>\n    </tr>\n    <tr>\n      <th>115</th>\n      <td>Lesotho</td>\n      <td>3.512</td>\n      <td>28.9</td>\n      <td>3.094</td>\n      <td>3000.0</td>\n    </tr>\n    <tr>\n      <th>116</th>\n      <td>Botswana</td>\n      <td>3.467</td>\n      <td>11.5</td>\n      <td>2.730</td>\n      <td>9000.0</td>\n    </tr>\n    <tr>\n      <th>117</th>\n      <td>Rwanda</td>\n      <td>3.415</td>\n      <td>11.0</td>\n      <td>3.885</td>\n      <td>1300.0</td>\n    </tr>\n    <tr>\n      <th>118</th>\n      <td>Zimbabwe</td>\n      <td>3.145</td>\n      <td>19.1</td>\n      <td>3.760</td>\n      <td>1900.0</td>\n    </tr>\n    <tr>\n      <th>119</th>\n      <td>Afghanistan</td>\n      <td>2.523</td>\n      <td>6.4</td>\n      <td>4.635</td>\n      <td>700.0</td>\n    </tr>\n  </tbody>\n</table>\n<p>120 rows × 5 columns</p>\n</div>"
     },
     "execution_count": 73,
     "metadata": {},
     "output_type": "execute_result"
    }
   ],
   "source": [
    "finaldata = finaldata.merge(clean_countries, on='Country')\n",
    "finaldata"
   ],
   "metadata": {
    "collapsed": false,
    "pycharm": {
     "name": "#%%\n"
    }
   }
  }
 ],
 "metadata": {
  "kernelspec": {
   "display_name": "Python 3",
   "language": "python",
   "name": "python3"
  },
  "language_info": {
   "codemirror_mode": {
    "name": "ipython",
    "version": 3
   },
   "file_extension": ".py",
   "mimetype": "text/x-python",
   "name": "python",
   "nbconvert_exporter": "python",
   "pygments_lexer": "ipython3",
   "version": "3.8.5"
  }
 },
 "nbformat": 4,
 "nbformat_minor": 1
}